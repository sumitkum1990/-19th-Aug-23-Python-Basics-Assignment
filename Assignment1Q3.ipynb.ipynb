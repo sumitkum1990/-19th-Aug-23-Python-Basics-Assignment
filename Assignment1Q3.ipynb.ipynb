{
 "cells": [
  {
   "cell_type": "code",
   "execution_count": 28,
   "id": "61d4c25d-2b9a-4847-a4c5-a0595cf51545",
   "metadata": {},
   "outputs": [
    {
     "name": "stdin",
     "output_type": "stream",
     "text": [
      "Enter temprature in Celsius 32\n"
     ]
    },
    {
     "name": "stdout",
     "output_type": "stream",
     "text": [
      "Temprature in Fahrenheit     89.6\n"
     ]
    }
   ],
   "source": [
    "Ctemp = float(input(\"Enter temprature in Celsius\"))\n",
    "a = (Ctemp*9)\n",
    "b = a/5\n",
    "c = b+32\n",
    "float(c)\n",
    "d = \"Temprature in Fahrenheit     \"    + str(c)\n",
    "print(d)"
   ]
  },
  {
   "cell_type": "markdown",
   "id": "8742d5d3-d9ef-43ce-a626-cb618bc8183c",
   "metadata": {},
   "source": [
    "## "
   ]
  }
 ],
 "metadata": {
  "kernelspec": {
   "display_name": "Python 3 (ipykernel)",
   "language": "python",
   "name": "python3"
  },
  "language_info": {
   "codemirror_mode": {
    "name": "ipython",
    "version": 3
   },
   "file_extension": ".py",
   "mimetype": "text/x-python",
   "name": "python",
   "nbconvert_exporter": "python",
   "pygments_lexer": "ipython3",
   "version": "3.10.8"
  }
 },
 "nbformat": 4,
 "nbformat_minor": 5
}
