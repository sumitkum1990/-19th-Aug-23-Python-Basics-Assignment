{
 "cells": [
  {
   "cell_type": "code",
   "execution_count": null,
   "id": "37c98141-9fb1-41ce-be58-375257832638",
   "metadata": {},
   "outputs": [],
   "source": [
    "length = input(\"Enter length\")\n",
    "bredth = input(\"Enter bredth\")\n",
    "area = length*bredth\n",
    "area\n"
   ]
  },
  {
   "cell_type": "code",
   "execution_count": null,
   "id": "3d447828-c588-4228-a038-0abd30f042ee",
   "metadata": {},
   "outputs": [],
   "source": []
  }
 ],
 "metadata": {
  "kernelspec": {
   "display_name": "Python 3 (ipykernel)",
   "language": "python",
   "name": "python3"
  },
  "language_info": {
   "codemirror_mode": {
    "name": "ipython",
    "version": 3
   },
   "file_extension": ".py",
   "mimetype": "text/x-python",
   "name": "python",
   "nbconvert_exporter": "python",
   "pygments_lexer": "ipython3",
   "version": "3.10.8"
  }
 },
 "nbformat": 4,
 "nbformat_minor": 5
}
