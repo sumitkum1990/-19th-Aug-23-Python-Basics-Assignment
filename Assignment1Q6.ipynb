{
 "cells": [
  {
   "cell_type": "code",
   "execution_count": 21,
   "id": "ea139f40-a992-411a-9d96-060cb04ad9f4",
   "metadata": {},
   "outputs": [
    {
     "name": "stdout",
     "output_type": "stream",
     "text": [
      "liO wen a si ataD tnaveleR\n"
     ]
    }
   ],
   "source": [
    "String = \"‘Godfather of AI’ Geoffrey Hinton quits Google and warns over dangers of misinformation\"\n",
    "s2 = slice(-1,-88,-1)\n",
    "print(s1[s2])"
   ]
  },
  {
   "cell_type": "code",
   "execution_count": null,
   "id": "0cef29f8-a880-4c2f-9a7a-f2b1579e8524",
   "metadata": {},
   "outputs": [],
   "source": [
    "slice"
   ]
  }
 ],
 "metadata": {
  "kernelspec": {
   "display_name": "Python 3 (ipykernel)",
   "language": "python",
   "name": "python3"
  },
  "language_info": {
   "codemirror_mode": {
    "name": "ipython",
    "version": 3
   },
   "file_extension": ".py",
   "mimetype": "text/x-python",
   "name": "python",
   "nbconvert_exporter": "python",
   "pygments_lexer": "ipython3",
   "version": "3.10.8"
  }
 },
 "nbformat": 4,
 "nbformat_minor": 5
}
