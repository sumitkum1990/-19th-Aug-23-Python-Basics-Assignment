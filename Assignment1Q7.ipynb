{
 "cells": [
  {
   "cell_type": "code",
   "execution_count": 1,
   "id": "0d446ff2-d370-4da3-88a8-18f2183ae332",
   "metadata": {},
   "outputs": [
    {
     "name": "stdin",
     "output_type": "stream",
     "text": [
      "Enter any string civic\n"
     ]
    },
    {
     "name": "stdout",
     "output_type": "stream",
     "text": [
      "civic\n",
      "civic\n",
      "string1 is equal to string2, Hence it is palindrome\n"
     ]
    }
   ],
   "source": [
    "s1 = str(input(\"Enter any string\"))\n",
    "s2 = slice(-1,-88,-1)\n",
    "\n",
    "a = s1[s2]\n",
    "print(a)\n",
    "print(s1)\n",
    "\n",
    "if s1 == a:\n",
    "    print(\"string1 is equal to string2, Hence it is palindrome\")\n",
    "else:\n",
    "    print(\"string1 is not equal to string2\")"
   ]
  },
  {
   "cell_type": "code",
   "execution_count": null,
   "id": "0fe252da-6be3-4d61-a999-5335b8f8bb6e",
   "metadata": {},
   "outputs": [],
   "source": []
  }
 ],
 "metadata": {
  "kernelspec": {
   "display_name": "Python 3 (ipykernel)",
   "language": "python",
   "name": "python3"
  },
  "language_info": {
   "codemirror_mode": {
    "name": "ipython",
    "version": 3
   },
   "file_extension": ".py",
   "mimetype": "text/x-python",
   "name": "python",
   "nbconvert_exporter": "python",
   "pygments_lexer": "ipython3",
   "version": "3.10.8"
  }
 },
 "nbformat": 4,
 "nbformat_minor": 5
}
